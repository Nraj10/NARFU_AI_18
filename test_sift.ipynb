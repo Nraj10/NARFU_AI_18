{
 "cells": [
  {
   "cell_type": "code",
   "execution_count": 1,
   "metadata": {},
   "outputs": [],
   "source": [
    "import PIL\n",
    "import cv2\n",
    "import geotiff\n",
    "import numpy as np\n",
    "from NARFU_AI_18.geoparser import SourceImage, SIFT\n",
    "from NARFU_AI_18.config import CONFIG\n",
    "import os\n",
    "from NARFU_AI_18.geoparser import CropImage\n",
    "from tifffile import imread as tifread\n",
    "from matplotlib import pyplot as plt"
   ]
  },
  {
   "cell_type": "code",
   "execution_count": 17,
   "metadata": {},
   "outputs": [],
   "source": [
    "SIFT.setSigma(1)\n",
    "# SIFT.setNOctaveLayers(3)\n",
    "# SIFT.setContrastThreshold(0.3)\n",
    "# SIFT.setNFeatures(1000000)\n",
    "SIFT.setEdgeThreshold(10.0)\n",
    "CONFIG.homografy_confidence = 3\n",
    "CONFIG.layouts_downscale = 6\n",
    "CONFIG.max_matches_to_calc_proj = 100"
   ]
  },
  {
   "cell_type": "code",
   "execution_count": null,
   "metadata": {},
   "outputs": [],
   "source": [
    "layouts_dir = os.path.join(CONFIG.data_path, CONFIG.layouts_dir_name)\n",
    "fig = plt.figure(figsize=(10, 7), dpi=400)\n",
    "index = 1\n",
    "\n",
    "remove_clouds = np.vectorize(lambda x: x/2000*255 if x < 2000 else 0)\n",
    "\n",
    "for file_name in os.listdir(layouts_dir):\n",
    "    fig.add_subplot(2, 2, index)\n",
    "    index += 1\n",
    "    image = tifread(os.path.join(layouts_dir, file_name))[:, :, 3]/2000*255\n",
    "    # image = remove_clouds(image)\n",
    "    # vals = image.mean(axis=1).flatten()\n",
    "    # # plot histogram with 255 bins\n",
    "    # b, bins, patches = plt.hist(vals, 255)\n",
    "    # plt.xlim([0,255])\n",
    "    # image = image.clip(0, 1)\n",
    "    image = np.array(\n",
    "            PIL.Image.fromarray(np.array(image, dtype=np.uint8)).resize(\n",
    "                [image.shape[0] // 4, image.shape[1] // 4],\n",
    "                resample=PIL.Image.BICUBIC,\n",
    "            ),\n",
    "            dtype=np.uint8\n",
    "        )\n",
    "    cv2.normalize(image, image, 50, 150, cv2.NORM_MINMAX)\n",
    "    \n",
    "    plt.imshow(image)\n",
    "    plt.axis(\"off\")\n",
    "    plt.title(file_name)\n",
    "plt.show()\n"
   ]
  },
  {
   "cell_type": "code",
   "execution_count": null,
   "metadata": {},
   "outputs": [],
   "source": [
    "layouts_dir = os.path.join(CONFIG.data_path, CONFIG.layouts_dir_name)\n",
    "layouts = [SourceImage(os.path.join(layouts_dir, file_name)) for file_name in os.listdir(layouts_dir)]"
   ]
  },
  {
   "cell_type": "code",
   "execution_count": null,
   "metadata": {},
   "outputs": [],
   "source": [
    "fig = plt.figure(figsize=(10, 7), dpi=400) \n",
    "for layout in layouts:\n",
    "    fig.add_subplot(2, 2, layouts.index(layout)+1) \n",
    "    plt.imshow(layout.image)\n",
    "    plt.axis('off') \n",
    "    plt.title(layout.name) \n",
    "plt.show()"
   ]
  },
  {
   "cell_type": "code",
   "execution_count": null,
   "metadata": {},
   "outputs": [],
   "source": [
    "crops_path = os.path.join(CONFIG.data_path, CONFIG.crops_dir_name)\n",
    "for crop_file_name in os.listdir(crops_path):\n",
    "    crop = tifread(os.path.join(crops_path, crop_file_name))\n",
    "    crop = np.array(crop[:,:,:3] / 2000 * 255, dtype=np.uint8)\n",
    "    crop = CropImage(crop, crop_file_name)\n",
    "\n",
    "    print(crop_file_name)\n",
    "    for layout in layouts:\n",
    "        transform, _, matches = crop.match(layout)\n",
    "        crop_transformed = cv2.warpPerspective(np.copy(crop.image), transform, (layout.image.shape[0], layout.image.shape[1]))\n",
    "        mask = np.zeros_like(layout.image, dtype = np.uint8)\n",
    "        roi_corners = np.int32([\n",
    "        [\n",
    "            [0, 0],\n",
    "            [0, layout.image.shape[0] - 1],\n",
    "            [layout.image.shape[1] - 1, layout.image.shape[0] - 1],\n",
    "            [layout.image.shape[1] - 1, 0]\n",
    "        ]\n",
    "        ])\n",
    "        ignore_mask_color = (255)\n",
    "        cv2.fillPoly(mask, roi_corners, ignore_mask_color)\n",
    "        img2_masked = cv2.bitwise_and(layout.image, mask)\n",
    "        img_combined = cv2.add(img2_masked, crop_transformed)\n",
    "        cv2.imshow('image', img_combined)\n",
    "        cv2.waitKey(0)\n",
    "        cv2.destroyAllWindows()\n",
    "        coords = crop.get_coords(layout)\n",
    "        valid = True\n",
    "        for coord in coords:\n",
    "            if(coord[2] > 1.2) or (coord[2] < 0.8):\n",
    "                valid = False\n",
    "\n",
    "        if(valid):\n",
    "            print(coords)\n",
    "        else:\n",
    "            print('not valid', coords)"
   ]
  },
  {
   "cell_type": "code",
   "execution_count": 18,
   "metadata": {},
   "outputs": [],
   "source": [
    "\n",
    "\n",
    "crop = tifread('NARFU_AI_18/data/crops/crop_1_1_0000.tif')\n",
    "crop = crop[:,:,:3] / 3000 * 255\n",
    "crop = np.array(crop, dtype=np.uint8)\n",
    "crop = CropImage(crop)\n",
    "# cv2.imshow('image', crop.image)\n",
    "# cv2.waitKey(0)\n",
    "# cv2.destroyAllWindows()"
   ]
  },
  {
   "cell_type": "code",
   "execution_count": 19,
   "metadata": {},
   "outputs": [],
   "source": [
    "FILE = SourceImage('NARFU_AI_18/data/layouts/layout_2021-08-16.tif')\n",
    "# cv2.imshow('image', FILE.image)\n",
    "# cv2.waitKey(0)\n",
    "# cv2.destroyAllWindows()"
   ]
  },
  {
   "cell_type": "code",
   "execution_count": 20,
   "metadata": {},
   "outputs": [
    {
     "data": {
      "text/plain": [
       "array([[-9.88579039e-01, -4.50247013e+00,  8.68069868e+02],\n",
       "       [ 2.95262742e-01, -5.53678578e-01,  1.17750697e+02],\n",
       "       [-8.22700096e-04, -5.44443365e-03,  1.00000000e+00]])"
      ]
     },
     "execution_count": 20,
     "metadata": {},
     "output_type": "execute_result"
    }
   ],
   "source": [
    "M, _, matches = crop.match(FILE)\n",
    "M"
   ]
  },
  {
   "cell_type": "code",
   "execution_count": 12,
   "metadata": {},
   "outputs": [],
   "source": [
    "img = FILE.image\n",
    "sift = cv2.SIFT_create()\n",
    "keypoints = FILE.keypoints\n",
    "descr = FILE.descriptors\n",
    "crop_keypoints = crop.keypoints\n",
    "crop_descr = crop.descriptors"
   ]
  },
  {
   "cell_type": "code",
   "execution_count": 13,
   "metadata": {},
   "outputs": [],
   "source": [
    "kimg = cv2.drawKeypoints(img, keypoints, np.copy(img))\n",
    "cv2.imshow('image', kimg)\n",
    "cv2.waitKey(0)\n",
    "cv2.destroyAllWindows()"
   ]
  },
  {
   "cell_type": "code",
   "execution_count": 7,
   "metadata": {},
   "outputs": [
    {
     "name": "stderr",
     "output_type": "stream",
     "text": [
      "Qt: Session management error: None of the authentication protocols specified are supported\n"
     ]
    }
   ],
   "source": [
    "kimg = cv2.drawKeypoints(crop.image, crop_keypoints, np.copy(crop.image))\n",
    "cv2.imshow('image', kimg)\n",
    "cv2.waitKey(0)\n",
    "cv2.destroyAllWindows()"
   ]
  },
  {
   "cell_type": "code",
   "execution_count": null,
   "metadata": {},
   "outputs": [],
   "source": [
    "bf = cv2.BFMatcher(cv2.NORM_L1, crossCheck=True)"
   ]
  },
  {
   "cell_type": "code",
   "execution_count": 14,
   "metadata": {},
   "outputs": [],
   "source": [
    "# matches = bf.match(crop_descr,descr)\n",
    "# matches = sorted(matches, key = lambda x:x.distance)\n",
    "matched_img = cv2.drawMatches(crop.image, crop_keypoints, img, keypoints, matches[:50], img, flags=2)\n",
    "cv2.imshow('image', matched_img)\n",
    "cv2.waitKey(0)\n",
    "cv2.destroyAllWindows()"
   ]
  },
  {
   "cell_type": "code",
   "execution_count": 23,
   "metadata": {},
   "outputs": [],
   "source": []
  },
  {
   "cell_type": "code",
   "execution_count": null,
   "metadata": {},
   "outputs": [],
   "source": [
    "if len(matches) > 50:\n",
    "   src_pts = np.float32([crop_keypoints[m.queryIdx].pt\n",
    "      for m in matches[: 50]\n",
    "   ]).reshape(-1, 1, 2)\n",
    "dst_pts = np.float32([keypoints[m.trainIdx].pt\n",
    "   for m in matches[: 50]\n",
    "]).reshape(-1, 1, 2)"
   ]
  },
  {
   "cell_type": "code",
   "execution_count": null,
   "metadata": {},
   "outputs": [],
   "source": [
    "M, mask = cv2.findHomography(src_pts, dst_pts, cv2.RANSAC, 5.0)"
   ]
  },
  {
   "cell_type": "code",
   "execution_count": null,
   "metadata": {},
   "outputs": [],
   "source": [
    "M"
   ]
  },
  {
   "cell_type": "code",
   "execution_count": 15,
   "metadata": {},
   "outputs": [],
   "source": [
    "crop_transformed = cv2.warpPerspective(crop.image, M, (img.shape[0], img.shape[1]))\n",
    "cv2.imshow('image', crop_transformed)\n",
    "cv2.waitKey(0)\n",
    "cv2.destroyAllWindows()"
   ]
  },
  {
   "cell_type": "code",
   "execution_count": 25,
   "metadata": {},
   "outputs": [],
   "source": []
  },
  {
   "cell_type": "code",
   "execution_count": null,
   "metadata": {},
   "outputs": [],
   "source": []
  },
  {
   "cell_type": "code",
   "execution_count": null,
   "metadata": {},
   "outputs": [],
   "source": [
    "mask = np.zeros_like(img, dtype = np.uint8)\n",
    "roi_corners = np.int32([\n",
    "   [\n",
    "      [0, 0],\n",
    "      [0, img.shape[0] - 1],\n",
    "      [img.shape[1] - 1, img.shape[0] - 1],\n",
    "      [img.shape[1] - 1, 0]\n",
    "   ]\n",
    "])\n",
    "ignore_mask_color = (255, 255,255)\n",
    "cv2.fillPoly(mask, roi_corners, ignore_mask_color)\n",
    "img2_masked = cv2.bitwise_and(img, mask)\n",
    "img_combined = cv2.add(img2_masked, crop_transformed)\n",
    "cv2.imshow('image', img_combined)\n",
    "cv2.waitKey(0)\n",
    "cv2.destroyAllWindows()"
   ]
  },
  {
   "cell_type": "code",
   "execution_count": null,
   "metadata": {},
   "outputs": [],
   "source": [
    "left_top_corner = M.dot(np.array([0,0,1]))\n",
    "right_top_corner = M.dot(np.array([crop.image.shape[0], 0, 1]))\n",
    "right_bottom_corner = M.dot(np.array([crop.image.shape[0], crop.image.shape[1], 1]))\n",
    "left_bottom_corner = M.dot(np.array([0, crop.image.shape[1], 1]))\n",
    "\n",
    "print(left_top_corner, right_top_corner, right_bottom_corner, left_bottom_corner)"
   ]
  },
  {
   "cell_type": "code",
   "execution_count": null,
   "metadata": {},
   "outputs": [],
   "source": [
    "crop.get_coords(FILE)"
   ]
  }
 ],
 "metadata": {
  "kernelspec": {
   "display_name": "Python 3",
   "language": "python",
   "name": "python3"
  },
  "language_info": {
   "codemirror_mode": {
    "name": "ipython",
    "version": 3
   },
   "file_extension": ".py",
   "mimetype": "text/x-python",
   "name": "python",
   "nbconvert_exporter": "python",
   "pygments_lexer": "ipython3",
   "version": "3.10.12"
  }
 },
 "nbformat": 4,
 "nbformat_minor": 2
}
